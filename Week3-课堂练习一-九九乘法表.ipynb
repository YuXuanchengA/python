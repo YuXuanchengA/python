{
 "cells": [
  {
   "cell_type": "code",
   "execution_count": 8,
   "metadata": {},
   "outputs": [
    {
     "name": "stdout",
     "output_type": "stream",
     "text": [
      "1X1= 1 1X2= 2 1X3= 3 1X4= 4 1X5= 5 1X6= 6 1X7= 7 1X8= 8 1X9= 9 \n",
      "\n",
      "2X1= 2 2X2= 4 2X3= 6 2X4= 8 2X5=10 2X6=12 2X7=14 2X8=16 2X9=18 \n",
      "\n",
      "3X1= 3 3X2= 6 3X3= 9 3X4=12 3X5=15 3X6=18 3X7=21 3X8=24 3X9=27 \n",
      "\n",
      "4X1= 4 4X2= 8 4X3=12 4X4=16 4X5=20 4X6=24 4X7=28 4X8=32 4X9=36 \n",
      "\n",
      "5X1= 5 5X2=10 5X3=15 5X4=20 5X5=25 5X6=30 5X7=35 5X8=40 5X9=45 \n",
      "\n",
      "6X1= 6 6X2=12 6X3=18 6X4=24 6X5=30 6X6=36 6X7=42 6X8=48 6X9=54 \n",
      "\n",
      "7X1= 7 7X2=14 7X3=21 7X4=28 7X5=35 7X6=42 7X7=49 7X8=56 7X9=63 \n",
      "\n",
      "8X1= 8 8X2=16 8X3=24 8X4=32 8X5=40 8X6=48 8X7=56 8X8=64 8X9=72 \n",
      "\n",
      "9X1= 9 9X2=18 9X3=27 9X4=36 9X5=45 9X6=54 9X7=63 9X8=72 9X9=81 \n",
      "\n"
     ]
    }
   ],
   "source": [
    "for i in range(1,10):\n",
    "    for j in range(1,10):\n",
    "        k = i * j\n",
    "        print(\"%dX%d=%2d\" % (i,j,k),end=\" \")\n",
    "    print('\\n')"
   ]
  }
 ],
 "metadata": {
  "kernelspec": {
   "display_name": "Python 3",
   "language": "python",
   "name": "python3"
  },
  "language_info": {
   "codemirror_mode": {
    "name": "ipython",
    "version": 3
   },
   "file_extension": ".py",
   "mimetype": "text/x-python",
   "name": "python",
   "nbconvert_exporter": "python",
   "pygments_lexer": "ipython3",
   "version": "3.6.2"
  }
 },
 "nbformat": 4,
 "nbformat_minor": 2
}
