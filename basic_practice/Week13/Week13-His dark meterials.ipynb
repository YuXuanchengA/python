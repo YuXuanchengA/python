{
 "cells": [
  {
   "cell_type": "markdown",
   "metadata": {},
   "source": [
    "统计His_dark_meterials_full_en.zip英文单词中名词、形容词、副词等等占所有词汇的百分比"
   ]
  },
  {
   "cell_type": "code",
   "execution_count": 2,
   "metadata": {},
   "outputs": [],
   "source": [
    "import nltk\n",
    "from nltk.tokenize import word_tokenize\n",
    "\n",
    "def word_freq(text):\n",
    "    \n",
    "    #分词\n",
    "    word_list = nltk.word_tokenize(text)\n",
    "    \n",
    "    #去停用词\n",
    "    english_punctuations = [',', '.', ':', ';', '?', '(', ')', '[', ']', '&', '!', '*', '@', '#', '$', '%']\n",
    "    word_list = [word for word in word_list if word not in english_punctuations]\n",
    "    \n",
    "    #词性标注\n",
    "    words_tagged = nltk.pos_tag(word_list)\n",
    "    \n",
    "    #统计结果\n",
    "    Noun = 0\n",
    "    Adv = 0\n",
    "    Adj = 0\n",
    "    words_count = len(words_tagged)\n",
    "    word_freq = nltk.FreqDist(words_tagged)\n",
    "    d=dict(word_freq)  \n",
    "    for key in d.keys(): \n",
    "\n",
    "        if(key[1]=='NN' or key[1]=='NNP' or key[1]=='NNS' or key[1]=='NNPS' ):\n",
    "            Noun+=1\n",
    "        elif(key[1]=='JJ' or key[1]=='JJR' or key[1]=='JJS'):\n",
    "            Adj+=1\n",
    "        elif(key[1]=='RB' or key[1]=='RBR' or key[1]=='RBS'):\n",
    "            Adv+=1\n",
    "\n",
    "    NounPer = Noun/words_count\n",
    "    print('名词占比: {:.2%}'.format(NounPer))\n",
    "\n",
    "    AdjPer = Adj/words_count\n",
    "    print('形容词占比: {:.2%}'.format(AdjPer))\n",
    "\n",
    "    AdvPer = Adv/words_count\n",
    "    print('副词占比: {:.2%}'.format(AdvPer))"
   ]
  },
  {
   "cell_type": "code",
   "execution_count": 3,
   "metadata": {},
   "outputs": [
    {
     "name": "stdout",
     "output_type": "stream",
     "text": [
      "名词占比: 4.42%\n",
      "形容词占比: 1.60%\n",
      "副词占比: 0.50%\n"
     ]
    }
   ],
   "source": [
    "with open('Pullman, Philip - His Dark Materials, Book 1.rtf', 'r')as file:\n",
    "    text = file.read()\n",
    "\n",
    "word_freq(text)\n",
    "file.close()"
   ]
  },
  {
   "cell_type": "code",
   "execution_count": 4,
   "metadata": {},
   "outputs": [
    {
     "name": "stdout",
     "output_type": "stream",
     "text": [
      "名词占比: 3.49%\n",
      "形容词占比: 1.42%\n",
      "副词占比: 0.40%\n"
     ]
    }
   ],
   "source": [
    "with open('Pullman, Philip - His Dark Materials, Book 3.rtf', 'r')as file:\n",
    "    text = file.read()\n",
    "\n",
    "word_freq(text)\n",
    "file.close()"
   ]
  },
  {
   "cell_type": "code",
   "execution_count": null,
   "metadata": {},
   "outputs": [],
   "source": []
  }
 ],
 "metadata": {
  "kernelspec": {
   "display_name": "Python 3",
   "language": "python",
   "name": "python3"
  },
  "language_info": {
   "codemirror_mode": {
    "name": "ipython",
    "version": 3
   },
   "file_extension": ".py",
   "mimetype": "text/x-python",
   "name": "python",
   "nbconvert_exporter": "python",
   "pygments_lexer": "ipython3",
   "version": "3.6.2"
  }
 },
 "nbformat": 4,
 "nbformat_minor": 2
}
