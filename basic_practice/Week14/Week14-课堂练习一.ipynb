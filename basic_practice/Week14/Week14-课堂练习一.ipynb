{
 "cells": [
  {
   "cell_type": "markdown",
   "metadata": {},
   "source": [
    "复习自动切分的评价指标的概念，分别计算一下上述几种工具对于text表示的中文的自动切分结果相对于正确切分结果的准确率、召回率和F值。可手动统计计算（需要有详细文字解释说明），也可以写程序计算。"
   ]
  },
  {
   "cell_type": "code",
   "execution_count": 2,
   "metadata": {},
   "outputs": [],
   "source": [
    "text_right=\"在 尼比鲁星球 探查 期间 ，企业号 舰长 柯克 为 营救 史波克 采取 了 胆大妄为 的 举动 ， 几乎 危及 全舰 队员 的 生命 ， 他 也 为此 付出 代价 。\""
   ]
  },
  {
   "cell_type": "code",
   "execution_count": 3,
   "metadata": {},
   "outputs": [],
   "source": [
    "#正确分词数：29"
   ]
  },
  {
   "cell_type": "code",
   "execution_count": 6,
   "metadata": {},
   "outputs": [
    {
     "name": "stdout",
     "output_type": "stream",
     "text": [
      "['在', '尼', '比鲁', '星球', '探查', '期间', '，', '企业', '号', '舰长', '柯克', '为', '营救', '史', '波克', '采取', '了', '胆大妄为', '的', '举动', '，', '几乎', '危及', '全', '舰队', '员', '的', '生命', '，', '他', '也', '为', '此', '付出', '代价', '。']\n"
     ]
    }
   ],
   "source": [
    "# snownlp\n",
    "from snownlp import SnowNLP\n",
    "text = \"在尼比鲁星球探查期间，企业号舰长柯克为营救史波克采取了胆大妄为的举动，几乎危及全舰队员的生命，他也为此付出代价。\"\n",
    "doc = SnowNLP(text)\n",
    "snownlp_list=doc.words\n",
    "print(snownlp_list)"
   ]
  },
  {
   "cell_type": "code",
   "execution_count": 14,
   "metadata": {},
   "outputs": [
    {
     "name": "stdout",
     "output_type": "stream",
     "text": [
      "准确率(precision) 准确率（P）: 69.44444444444444 %\n",
      "召回率(recall) 召回率（R）: 86.20689655172413 %\n",
      "F-评价: 76.9230769230769 %\n"
     ]
    }
   ],
   "source": [
    "#所有分词数量：25\n",
    "#正确分词数量：36\n",
    "\n",
    "#准确率(precision) 准确率（P）＝切分结果中正确分词数/切分结果中所有分词数*100%\n",
    "precision = 25/36*100\n",
    "print(\"准确率(precision) 准确率（P）:\",precision,\"%\")\n",
    "\n",
    "#召回率(recall) 召回率（R）＝切分结果中正确分词数/标准答案中所有分词数*100%\n",
    "recall = 25/29*100\n",
    "print(\"召回率(recall) 召回率（R）:\",recall,\"%\")\n",
    "\n",
    "#F-评价(F-measure 综合准确率和召回率的评价指标 ) F-指标＝2PR/(P+R)\n",
    "F_measure = 2 * precision * recall / (precision + recall)\n",
    "print(\"F-评价:\",F_measure,\"%\")"
   ]
  },
  {
   "cell_type": "code",
   "execution_count": 10,
   "metadata": {},
   "outputs": [
    {
     "name": "stderr",
     "output_type": "stream",
     "text": [
      "Building prefix dict from the default dictionary ...\n",
      "Dumping model to file cache C:\\Users\\surface\\AppData\\Local\\Temp\\jieba.cache\n",
      "Loading model cost 1.334 seconds.\n",
      "Prefix dict has been built succesfully.\n"
     ]
    },
    {
     "data": {
      "text/plain": [
       "['在',\n",
       " '尼',\n",
       " '比鲁',\n",
       " '星球',\n",
       " '探查',\n",
       " '期间',\n",
       " '，',\n",
       " '企业',\n",
       " '号',\n",
       " '舰长',\n",
       " '柯克为',\n",
       " '营救',\n",
       " '史波克',\n",
       " '采取',\n",
       " '了',\n",
       " '胆大妄为',\n",
       " '的',\n",
       " '举动',\n",
       " '，',\n",
       " '几乎',\n",
       " '危及',\n",
       " '全舰',\n",
       " '队员',\n",
       " '的',\n",
       " '生命',\n",
       " '，',\n",
       " '他',\n",
       " '也',\n",
       " '为此',\n",
       " '付出代价',\n",
       " '。']"
      ]
     },
     "execution_count": 10,
     "metadata": {},
     "output_type": "execute_result"
    }
   ],
   "source": [
    "#jieba\n",
    "import jieba\n",
    "words = jieba.cut(text)\n",
    "[w for w in words]"
   ]
  },
  {
   "cell_type": "code",
   "execution_count": 15,
   "metadata": {},
   "outputs": [
    {
     "name": "stdout",
     "output_type": "stream",
     "text": [
      "准确率(precision) 准确率（P）: 77.41935483870968 %\n",
      "召回率(recall) 召回率（R）: 82.75862068965517 %\n",
      "F-评价: 80.0 %\n"
     ]
    }
   ],
   "source": [
    "#所有分词数量：24\n",
    "#正确分词数量：31\n",
    "\n",
    "#准确率(precision) 准确率（P）＝切分结果中正确分词数/切分结果中所有分词数*100%\n",
    "precision = 24/31*100\n",
    "print(\"准确率(precision) 准确率（P）:\",precision,\"%\")\n",
    "\n",
    "#召回率(recall) 召回率（R）＝切分结果中正确分词数/标准答案中所有分词数*100%\n",
    "recall = 24/29*100\n",
    "print(\"召回率(recall) 召回率（R）:\",recall,\"%\")\n",
    "\n",
    "#F-评价(F-measure 综合准确率和召回率的评价指标 ) F-指标＝2PR/(P+R)\n",
    "F_measure = 2 * precision * recall / (precision + recall)\n",
    "print(\"F-评价:\",F_measure,\"%\")"
   ]
  },
  {
   "cell_type": "code",
   "execution_count": null,
   "metadata": {},
   "outputs": [],
   "source": [
    "#standfordnlp 老师这个模块运行不出来……\n",
    "from stanfordcorenlp import StanfordCoreNLP\n",
    "nlp = StanfordCoreNLP(r'D:\\python\\stanford-corenlp-full-2018-10-05',lang= 'zh')\n",
    "stanfordcorenlp_list = nlp.word_tokenize(text)"
   ]
  },
  {
   "cell_type": "code",
   "execution_count": null,
   "metadata": {},
   "outputs": [],
   "source": []
  },
  {
   "cell_type": "code",
   "execution_count": null,
   "metadata": {},
   "outputs": [],
   "source": []
  }
 ],
 "metadata": {
  "kernelspec": {
   "display_name": "Python 3",
   "language": "python",
   "name": "python3"
  },
  "language_info": {
   "codemirror_mode": {
    "name": "ipython",
    "version": 3
   },
   "file_extension": ".py",
   "mimetype": "text/x-python",
   "name": "python",
   "nbconvert_exporter": "python",
   "pygments_lexer": "ipython3",
   "version": "3.6.2"
  }
 },
 "nbformat": 4,
 "nbformat_minor": 2
}
