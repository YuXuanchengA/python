{
 "cells": [
  {
   "cell_type": "code",
   "execution_count": 12,
   "metadata": {},
   "outputs": [
    {
     "name": "stdout",
     "output_type": "stream",
     "text": [
      "A - a\n",
      "B - b\n",
      "C - c\n",
      "D - d\n",
      "E - e\n",
      "F - f\n",
      "G - g\n",
      "H - h\n",
      "I - i\n",
      "J - j\n",
      "K - k\n",
      "L - l\n",
      "M - m\n",
      "N - n\n",
      "O - o\n",
      "P - p\n",
      "Q - q\n",
      "R - r\n",
      "S - s\n",
      "T - t\n",
      "U - u\n",
      "V - v\n",
      "W - w\n",
      "X - x\n",
      "Y - y\n",
      "Z - z\n"
     ]
    }
   ],
   "source": [
    "i = 0\n",
    "\n",
    "w = []\n",
    "\n",
    "while i < 26:\n",
    "    lst=(chr(65+i),chr(97+i))\n",
    "    lst_=tuple(lst)\n",
    "    w.append(lst_)\n",
    "    i += 1\n",
    "    print(w[i-1][0]+\" - \"+w[i-1][1])"
   ]
  }
 ],
 "metadata": {
  "kernelspec": {
   "display_name": "Python 3",
   "language": "python",
   "name": "python3"
  },
  "language_info": {
   "codemirror_mode": {
    "name": "ipython",
    "version": 3
   },
   "file_extension": ".py",
   "mimetype": "text/x-python",
   "name": "python",
   "nbconvert_exporter": "python",
   "pygments_lexer": "ipython3",
   "version": "3.6.2"
  }
 },
 "nbformat": 4,
 "nbformat_minor": 2
}
