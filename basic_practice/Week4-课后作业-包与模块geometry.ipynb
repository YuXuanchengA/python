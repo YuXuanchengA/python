{
 "cells": [
  {
   "cell_type": "code",
   "execution_count": 1,
   "metadata": {},
   "outputs": [
    {
     "name": "stdout",
     "output_type": "stream",
     "text": [
      "C:\\Users\\surface\\高级编程（一）\\basic_practice\\课后习题\n"
     ]
    }
   ],
   "source": [
    "#使用如下包与模块结构，计算几种常见平面和3D图形的面积、表面积与体积，\n",
    "#并在main函数中依次调用上述定义的 面积与体积 计算函数，函数名自拟。\n",
    "\n",
    "import os\n",
    "\n",
    "print(os.getcwd())"
   ]
  },
  {
   "cell_type": "code",
   "execution_count": 4,
   "metadata": {},
   "outputs": [
    {
     "name": "stdout",
     "output_type": "stream",
     "text": [
      "16\n"
     ]
    }
   ],
   "source": [
    "#计算正方形的面积-输入边长\n",
    "\n",
    "from geometry.area.square import area_square\n",
    "\n",
    "print(area_square(4))"
   ]
  },
  {
   "cell_type": "code",
   "execution_count": 5,
   "metadata": {},
   "outputs": [
    {
     "name": "stdout",
     "output_type": "stream",
     "text": [
      "6\n"
     ]
    }
   ],
   "source": [
    "#计算长方形的面积-输入长宽\n",
    "\n",
    "from geometry.area.rectangle import area_rectangle\n",
    "\n",
    "print(area_rectangle(2,3))"
   ]
  },
  {
   "cell_type": "code",
   "execution_count": 6,
   "metadata": {},
   "outputs": [
    {
     "name": "stdout",
     "output_type": "stream",
     "text": [
      "50.24\n"
     ]
    }
   ],
   "source": [
    "#计算圆形的面积-输入半径\n",
    "\n",
    "from geometry.area.circle import area_circle\n",
    "\n",
    "print(area_circle(4))"
   ]
  },
  {
   "cell_type": "code",
   "execution_count": 7,
   "metadata": {},
   "outputs": [
    {
     "name": "stdout",
     "output_type": "stream",
     "text": [
      "3.0\n"
     ]
    }
   ],
   "source": [
    "#计算三角形的面积-输入高和底\n",
    "\n",
    "from geometry.area.triangles import area_triangles\n",
    "\n",
    "print(area_triangles(2,3))"
   ]
  },
  {
   "cell_type": "code",
   "execution_count": 8,
   "metadata": {},
   "outputs": [
    {
     "name": "stdout",
     "output_type": "stream",
     "text": [
      "64\n"
     ]
    }
   ],
   "source": [
    "#计算正方体的体积-输入边长\n",
    "\n",
    "from geometry.volume.cube import volume_cube\n",
    "\n",
    "print(volume_cube(4))"
   ]
  },
  {
   "cell_type": "code",
   "execution_count": 9,
   "metadata": {},
   "outputs": [
    {
     "name": "stdout",
     "output_type": "stream",
     "text": [
      "24\n"
     ]
    }
   ],
   "source": [
    "#计算长方体的体积-输入长宽高\n",
    "\n",
    "from geometry.volume.cuboid import volume_cuboid\n",
    "\n",
    "print(volume_cuboid(2,3,4))"
   ]
  },
  {
   "cell_type": "code",
   "execution_count": 10,
   "metadata": {},
   "outputs": [
    {
     "name": "stdout",
     "output_type": "stream",
     "text": [
      "169.56\n"
     ]
    }
   ],
   "source": [
    "#计算圆柱体的体积-输入底面半径和高\n",
    "\n",
    "from geometry.volume.cylinder import v_cylinder\n",
    "\n",
    "print(v_cylinder(3,6))"
   ]
  },
  {
   "cell_type": "code",
   "execution_count": 11,
   "metadata": {},
   "outputs": [
    {
     "name": "stdout",
     "output_type": "stream",
     "text": [
      "113.03999999999998\n"
     ]
    }
   ],
   "source": [
    "#计算球的体积-输入半径\n",
    "\n",
    "from geometry.volume.sphere import volume_sphere\n",
    "\n",
    "print(volume_sphere(3))"
   ]
  }
 ],
 "metadata": {
  "kernelspec": {
   "display_name": "Python 3",
   "language": "python",
   "name": "python3"
  },
  "language_info": {
   "codemirror_mode": {
    "name": "ipython",
    "version": 3
   },
   "file_extension": ".py",
   "mimetype": "text/x-python",
   "name": "python",
   "nbconvert_exporter": "python",
   "pygments_lexer": "ipython3",
   "version": "3.6.2"
  }
 },
 "nbformat": 4,
 "nbformat_minor": 2
}
