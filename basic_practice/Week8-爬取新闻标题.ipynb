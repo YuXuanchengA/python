{
 "cells": [
  {
   "cell_type": "markdown",
   "metadata": {},
   "source": [
    "在浏览器中打开网址https://www.beijing2022.cn/cn/presscentre/newslist.htm 循环将网页中新闻列表的新闻标题用jquery的方法抽取出来"
   ]
  },
  {
   "cell_type": "code",
   "execution_count": 5,
   "metadata": {},
   "outputs": [
    {
     "name": "stderr",
     "output_type": "stream",
     "text": [
      "d:\\python\\lib\\site-packages\\urllib3\\connectionpool.py:1004: InsecureRequestWarning: Unverified HTTPS request is being made. Adding certificate verification is strongly advised. See: https://urllib3.readthedocs.io/en/latest/advanced-usage.html#ssl-warnings\n",
      "  InsecureRequestWarning,\n"
     ]
    }
   ],
   "source": [
    "import requests\n",
    "url='https://www.beijing2022.cn/cn/presscentre/newslist.htm'\n",
    "import ssl\n",
    "r=requests.get(url, verify=False)\n",
    "#冬奥会的爬不下来"
   ]
  },
  {
   "cell_type": "code",
   "execution_count": 22,
   "metadata": {},
   "outputs": [],
   "source": [
    "import requests\n",
    "from pyquery import PyQuery as pq\n",
    "url = 'https://www.thepaper.cn/channel_25950'\n",
    "r=requests.get(url)\n",
    "html=r.text.encode(r.encoding).decode(r.apparent_encoding,errors='ignore')"
   ]
  },
  {
   "cell_type": "code",
   "execution_count": 25,
   "metadata": {},
   "outputs": [],
   "source": [
    "doc=pq(html)"
   ]
  },
  {
   "cell_type": "code",
   "execution_count": 28,
   "metadata": {},
   "outputs": [],
   "source": [
    "lis = doc('.newsbox h2')"
   ]
  },
  {
   "cell_type": "code",
   "execution_count": 29,
   "metadata": {},
   "outputs": [
    {
     "name": "stdout",
     "output_type": "stream",
     "text": [
      "联播+丨习近平“关键一招”决胜“关键之年”\n",
      "深圳试点“控烟”电子眼：系全国首创，首日5人被罚\n",
      "布病阴影下的兰州兽研所\n",
      "韩政府再次抗议日本奥运会用“旭日旗”，称其为“憎恶之旗”\n",
      "中国地质调查局油气中心办公室主任梅岩辉等人接受审查调查\n",
      "外交部：中日韩领导人会议24日在成都举行，将着眼未来十年\n",
      "拉萨两名中学生在茶馆被四人殴打，检方已介入\n",
      "加拿大外交部发表涉康明凯、迈克尔案声明，中方提出严正交涉\n",
      "美国众议院民主党将公布两项弹劾条款：滥用权力和妨碍国会\n",
      "皖北煤电原董事长葛家德一审获刑十年，处罚金80万元\n",
      "因股权纠纷，王思聪名下2200万元资产被上海宝山法院冻结\n",
      "冰花男孩父亲回应申请贫困户被拒：非炒作，养活五口人挺难\n",
      "冻雾致2千余人滞留，乌鲁木齐机场启动航班延误黄色应急响应\n",
      "河南温县辟谣“中学生在宿舍吃泡面被开除”：不属实\n",
      "两部门：在尘肺病重点行业开展工伤保险扩面专项行动\n",
      "饭圈女孩买演唱会票被骗7万，为卖方提供收款二维码的人获刑\n",
      "安徽将试点人身损害赔偿标准城乡统一，实现“同命同价”\n",
      "林郑月娥本周六将赴京述职，汇报过去一年香港情况\n",
      "为女儿买车买房，宜昌中医医院原院长刘雄6年受贿600余万\n",
      "吉林一村支书“涉黑”罪名被撤销后一审获刑15年，已上诉\n",
      "海宁通报致9死污水罐坍塌事故：罐体砸中厂房，布匹压住工人\n",
      "上海基层立法联系点收集原汁原味民意，民主立法触角全面延伸\n",
      "重庆今年已破获电诈案2.2万起，打掉近百个“套路贷”团伙\n",
      "联播+丨习近平“关键一招”决胜“关键之年”\n",
      "深圳试点“控烟”电子眼：系全国首创，首日5人被罚\n",
      "布病阴影下的兰州兽研所\n",
      "韩政府再次抗议日本奥运会用“旭日旗”，称其为“憎恶之旗”\n",
      "中国地质调查局油气中心办公室主任梅岩辉等人接受审查调查\n",
      "外交部：中日韩领导人会议24日在成都举行，将着眼未来十年\n",
      "拉萨两名中学生在茶馆被四人殴打，检方已介入\n",
      "加拿大外交部发表涉康明凯、迈克尔案声明，中方提出严正交涉\n",
      "美国众议院民主党将公布两项弹劾条款：滥用权力和妨碍国会\n",
      "皖北煤电原董事长葛家德一审获刑十年，处罚金80万元\n",
      "因股权纠纷，王思聪名下2200万元资产被上海宝山法院冻结\n",
      "冰花男孩父亲回应申请贫困户被拒：非炒作，养活五口人挺难\n",
      "冻雾致2千余人滞留，乌鲁木齐机场启动航班延误黄色应急响应\n",
      "河南温县辟谣“中学生在宿舍吃泡面被开除”：不属实\n",
      "两部门：在尘肺病重点行业开展工伤保险扩面专项行动\n",
      "饭圈女孩买演唱会票被骗7万，为卖方提供收款二维码的人获刑\n",
      "安徽将试点人身损害赔偿标准城乡统一，实现“同命同价”\n",
      "林郑月娥本周六将赴京述职，汇报过去一年香港情况\n",
      "为女儿买车买房，宜昌中医医院原院长刘雄6年受贿600余万\n",
      "吉林一村支书“涉黑”罪名被撤销后一审获刑15年，已上诉\n",
      "海宁通报致9死污水罐坍塌事故：罐体砸中厂房，布匹压住工人\n",
      "上海基层立法联系点收集原汁原味民意，民主立法触角全面延伸\n",
      "重庆今年已破获电诈案2.2万起，打掉近百个“套路贷”团伙\n"
     ]
    }
   ],
   "source": [
    "for li in lis:\n",
    "    print(pq(li).find('a').text())"
   ]
  }
 ],
 "metadata": {
  "kernelspec": {
   "display_name": "Python 3",
   "language": "python",
   "name": "python3"
  },
  "language_info": {
   "codemirror_mode": {
    "name": "ipython",
    "version": 3
   },
   "file_extension": ".py",
   "mimetype": "text/x-python",
   "name": "python",
   "nbconvert_exporter": "python",
   "pygments_lexer": "ipython3",
   "version": "3.6.2"
  }
 },
 "nbformat": 4,
 "nbformat_minor": 2
}
