{
 "cells": [
  {
   "cell_type": "code",
   "execution_count": 3,
   "metadata": {},
   "outputs": [],
   "source": [
    "# 抽取三本书中NNP名词，保存到results文件，并人工筛选人名\n",
    "\n",
    "from nltk import word_tokenize\n",
    "from nltk import sent_tokenize\n",
    "from nltk import ne_chunk\n",
    "from nltk import pos_tag\n",
    "import codecs\n",
    "\n",
    "NNP = []\n",
    "with codecs.open(\"Pullman, Philip - His Dark Materials, Book 1.txt\", \"r\", \"utf8\") as f:\n",
    "    text = f.read()\n",
    "word = word_tokenize(text)\n",
    "pos = pos_tag(word)\n",
    "for i in range(len(pos)):\n",
    "    if (pos[i][1] == 'NNP'):\n",
    "        if (pos[i] not in NNP): # 不添加重复\n",
    "            NNP.append(pos[i])\n",
    "            with codecs.open(\"results.txt\", \"a+\", \"utf-8\") as f:\n",
    "                f.write(pos[i][0]+\"\\r\\n\")\n",
    "# entity = ne_chunk(pos)\n",
    "# print(ne_chunk(pos_tag(word_tokenize(sentence))))"
   ]
  },
  {
   "cell_type": "code",
   "execution_count": 4,
   "metadata": {},
   "outputs": [],
   "source": [
    "with codecs.open(\"Pullman, Philip - His Dark Materials, Book 2.txt\", \"r\", \"utf8\") as f:\n",
    "    text2 = f.read()\n",
    "word2 = word_tokenize(text2)\n",
    "pos2 = pos_tag(word2)\n",
    "for i in range(len(pos2)):\n",
    "    if (pos2[i][1] == 'NNP'):\n",
    "        if (pos2[i] not in NNP):\n",
    "            NNP.append(pos2[i])\n",
    "            with codecs.open(\"results.txt\", \"a+\", \"utf-8\") as f:\n",
    "                f.write(pos2[i][0]+\"\\r\\n\")"
   ]
  },
  {
   "cell_type": "code",
   "execution_count": 5,
   "metadata": {},
   "outputs": [],
   "source": [
    "with codecs.open(\"Pullman, Philip - His Dark Materials, Book 3.txt\", \"r\", \"utf8\") as f:\n",
    "    text3 = f.read()\n",
    "word3 = word_tokenize(text3)\n",
    "pos3 = pos_tag(word3)\n",
    "for i in range(len(pos3)):\n",
    "    if (pos3[i][1] == 'NNP'):\n",
    "        if (pos3[i] not in NNP):\n",
    "            NNP.append(pos3[i])\n",
    "            with codecs.open(\"results.txt\", \"a+\", \"utf-8\") as f:\n",
    "                f.write(pos3[i][0]+\"\\r\\n\")"
   ]
  },
  {
   "cell_type": "code",
   "execution_count": null,
   "metadata": {},
   "outputs": [],
   "source": []
  }
 ],
 "metadata": {
  "kernelspec": {
   "display_name": "Python 3",
   "language": "python",
   "name": "python3"
  },
  "language_info": {
   "codemirror_mode": {
    "name": "ipython",
    "version": 3
   },
   "file_extension": ".py",
   "mimetype": "text/x-python",
   "name": "python",
   "nbconvert_exporter": "python",
   "pygments_lexer": "ipython3",
   "version": "3.6.2"
  }
 },
 "nbformat": 4,
 "nbformat_minor": 2
}
