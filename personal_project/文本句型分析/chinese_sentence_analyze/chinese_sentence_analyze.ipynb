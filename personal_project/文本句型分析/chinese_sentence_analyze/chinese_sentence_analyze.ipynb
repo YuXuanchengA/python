{
 "cells": [
  {
   "cell_type": "code",
   "execution_count": 21,
   "metadata": {},
   "outputs": [],
   "source": [
    "import re\n",
    "import jieba\n",
    "import jieba.posseg as pseg\n",
    "import nltk\n",
    "\n",
    "# 分句\n",
    "# 参考链接：https://blog.csdn.net/zhuzuwei/article/details/80487032\n",
    "\n",
    "def sents_tokenize(content):\n",
    "    sentences = re.split('(。|！|\\!|\\.|？|\\?)', content)  # 保留分割符\n",
    "    new_sents = []\n",
    "    for i in range(int(len(sentences)/2)):\n",
    "        sent = sentences[2*i] + sentences[2*i+1]\n",
    "        new_sents.append(sent)\n",
    "    return new_sents\n",
    "\n",
    "def sents_analyze(sents):\n",
    "    sents_pattern = []\n",
    "    i = 0\n",
    "    for sent in sents:\n",
    "        i += 1\n",
    "        words = jieba.lcut(sent) # 返回列表\n",
    "        # print(words)\n",
    "        if words[-1] == '！':\n",
    "            sents_pattern.append('感叹句')\n",
    "        elif words[-1] == '？':\n",
    "            sents_pattern.append('疑问句')\n",
    "        elif '是' in words:\n",
    "            sents_pattern.append('是字句')    \n",
    "        elif '把' in words:\n",
    "            sents_pattern.append('把字句')\n",
    "        elif '被' in words:\n",
    "            sents_pattern.append('被字句')\n",
    "        else:\n",
    "            sents_pattern.append('陈述句')\n",
    "    \n",
    "        if i == 5000:\n",
    "            break\n",
    "    return sents_pattern\n",
    "            \n",
    "#main\n",
    "with open('The_three_body_problem_full.txt', 'r', encoding='utf-8') as f:\n",
    "    content = f.read().replace('\\n', '')\n",
    "    # 去除对话引号，不影响判断\n",
    "    content = content.replace('“', '')\n",
    "    content = content.replace('”', '')\n",
    "    \n",
    "sents = sents_tokenize(content)\n",
    "patterns = sents_analyze(sents)\n",
    "with open('The_three_body_problem_analyze.txt', 'w', encoding='utf-8') as f:\n",
    "    for pattern, sent in zip(patterns,sents):\n",
    "        f.write('{}\\t{}\\n'.format(pattern, sent))"
   ]
  },
  {
   "cell_type": "code",
   "execution_count": 34,
   "metadata": {},
   "outputs": [],
   "source": [
    "# 准确率判断\n",
    "import random\n",
    "test = []\n",
    "test_pattern = []\n",
    "test_sent = []\n",
    "\n",
    "for i in range(200) :\n",
    "    num = random.randint(0,4999) # 闭区间\n",
    "    if(num not in test):\n",
    "        test.append(num)\n",
    "        test_pattern.append(patterns[num])\n",
    "        test_sent.append(sents[num])\n",
    "\n",
    "# 将抽取的200个句子存入文件            \n",
    "with open('measurement_chinese.txt', 'w', encoding='utf-8') as f: \n",
    "    for pattern, sent in zip(test_pattern,test_sent):\n",
    "        f.write('{}\\t{}\\n'.format(pattern, sent))"
   ]
  },
  {
   "cell_type": "code",
   "execution_count": null,
   "metadata": {},
   "outputs": [],
   "source": [
    "# 人工判断准确率\n",
    "# 错误个数：把字句：1；是字句：7；被字句：2\n",
    "# 准确率：95%"
   ]
  }
 ],
 "metadata": {
  "kernelspec": {
   "display_name": "Python 3",
   "language": "python",
   "name": "python3"
  },
  "language_info": {
   "codemirror_mode": {
    "name": "ipython",
    "version": 3
   },
   "file_extension": ".py",
   "mimetype": "text/x-python",
   "name": "python",
   "nbconvert_exporter": "python",
   "pygments_lexer": "ipython3",
   "version": "3.6.2"
  }
 },
 "nbformat": 4,
 "nbformat_minor": 2
}
