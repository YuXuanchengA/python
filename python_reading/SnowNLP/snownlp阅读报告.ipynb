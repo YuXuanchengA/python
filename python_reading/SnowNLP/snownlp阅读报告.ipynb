{
 "cells": [
  {
   "cell_type": "markdown",
   "metadata": {},
   "source": [
    "# SnowNLP处理中文文本\n",
    "\n",
    "###如何使用\n",
    "- 导入snownlp模块\n",
    "- 创建snownlp对象（方法：s = SnowNLP(u'text')，u'转成unicode编码）\n",
    "\n",
    "###snownlp features\n",
    "- 分词 s.words\n",
    "- 词性标注 s.tags\n",
    "- 情感分析 s.sentiments（返回值为正面情绪的概率，越接近1表示正面情绪，越接近0表示负面情绪）\n",
    "- 转换为拼音 s.pinyin\n",
    "- 繁体转简体 s.han\n",
    "- 提取关键词 s.keywords(3) #*提取3个关键词*\n",
    "- 文本概括 s.summary\n",
    "- 分句 s.sentences\n",
    "- 统计单个词频 s.tf（term frequency）\n",
    "- 在单个词频基础上加权重 s.idf（自动过滤一些常见的词，比如“的”，这个权重叫做\"逆文档频率\"（Inverse Document Frequency，缩写为IDF），它的大小与一个词的常见程度成反比。）\n",
    "- 计算文本相似度 s.sim"
   ]
  },
  {
   "cell_type": "markdown",
   "metadata": {},
   "source": [
    "# setup.py\n",
    "\n",
    "- 下载源码：**python setup.py install**\n",
    "- 在线安装：安装pip后直接**pip install snownlp**\n",
    "\n",
    "###subprocess模块\n",
    "- os.system：以控制台的形式运行程序。<br />\n",
    "- subprocess：涉及到进行进程间通信时需要用到。（并不是很明白）\n",
    "\n",
    "###python打包工具setuptools和distutils\n",
    "**distutils**：python标准库的一部分，这个库的目的是为开发者提供一种**方便的打包方式**， 同时为使用者提供**方便的安装方式**。当我们开发了自己的模块之后，使用distutils的setup.py打包。\n",
    "\n",
    "from distutils.core import setup<br />\n",
    "setup(<br />\n",
    "name=\" \", #*要打包的包名*<br />\n",
    "version=\" \", #*版本信息*<br />\n",
    "...<br />\n",
    ") #*建立setup文件*<br />\n",
    "python setup sdist #*执行打包命令*\n",
    "\n",
    "**setuptools**：setuptools是distutils的增强版。\n",
    "\n",
    "from setuptools import setup<br />\n",
    "之后操作与distutils类似"
   ]
  },
  {
   "cell_type": "markdown",
   "metadata": {},
   "source": [
    "# test.py\n",
    "\n",
    "- normal.get_sentences() 分句\n",
    "- seg.seg() 分词\n",
    "- normal.filter_stop() 过滤提取高频词\n",
    "- textrank.TextRank() 概括文本信息提取摘要\n",
    "- rank.top_index(n) 提取前n句"
   ]
  },
  {
   "cell_type": "markdown",
   "metadata": {},
   "source": [
    "# 关于训练\n",
    "\n",
    "### 分词，词性标注，情感分析都需要用到训练模型\n",
    "\n",
    "- .train 训练新模型\n",
    "- .save 保存训练好的模型"
   ]
  },
  {
   "cell_type": "markdown",
   "metadata": {},
   "source": [
    "# 源码\n",
    "\n",
    "## - sentiment\n",
    "\n",
    "### sentiment情感分析\n",
    "\n",
    "判断一句话是积极态度还是消极态度，训练新模型→保存新模型→\n",
    "\n",
    "### sentiment文件夹包含：\n",
    "\n",
    "- neg.txt （存储消极/负样本，用于训练新模型）\n",
    "- pos.txt （存储积极/正样本，用于训练新模型）\n",
    "- sentiment.marshal （存储新模型）\n",
    "- sentiment.marshal.3\n",
    "\n",
    "### 调用了贝叶斯模型\n",
    "\n",
    "关于贝叶斯模型 https://blog.csdn.net/google19890102/article/details/80091502"
   ]
  }
 ],
 "metadata": {
  "kernelspec": {
   "display_name": "Python 3",
   "language": "python",
   "name": "python3"
  },
  "language_info": {
   "codemirror_mode": {
    "name": "ipython",
    "version": 3
   },
   "file_extension": ".py",
   "mimetype": "text/x-python",
   "name": "python",
   "nbconvert_exporter": "python",
   "pygments_lexer": "ipython3",
   "version": "3.6.2"
  }
 },
 "nbformat": 4,
 "nbformat_minor": 2
}
